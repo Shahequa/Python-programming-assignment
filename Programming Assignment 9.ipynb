{
 "cells": [
  {
   "cell_type": "markdown",
   "id": "47b9bb99",
   "metadata": {},
   "source": [
    "## Programming Assignment_9\n",
    "----------------"
   ]
  },
  {
   "cell_type": "markdown",
   "id": "c725f7a9",
   "metadata": {},
   "source": [
    "### 1. Write a Python program to check if the given number is a Disarium Number?"
   ]
  },
  {
   "cell_type": "code",
   "execution_count": 1,
   "id": "aa5b3acb-361a-4cfb-9d4a-9220e4001e70",
   "metadata": {},
   "outputs": [
    {
     "name": "stdout",
     "output_type": "stream",
     "text": [
      "\n",
      "Is 175 a Disarium number? True\n",
      "\n",
      "Is 63 a Disarium number? False\n",
      "\n",
      "Is 518 a Disarium number? True\n",
      "\n",
      "Is 345 a Disarium number? False\n"
     ]
    }
   ],
   "source": [
    "def is_disarium(num):\n",
    "    temp = 0\n",
    "    for i in range(len(str(num))):\n",
    "        temp += int(str(num)[i]) ** (i + 1)\n",
    "    return temp == num\n",
    "\n",
    "num = 175\n",
    "print(\"\\nIs\",num,\"a Disarium number?\",is_disarium(num))\n",
    "num = 63\n",
    "print(\"\\nIs\",num,\"a Disarium number?\",is_disarium(num))\n",
    "num = 518\n",
    "print(\"\\nIs\",num,\"a Disarium number?\",is_disarium(num))\n",
    "num = 345\n",
    "print(\"\\nIs\",num,\"a Disarium number?\",is_disarium(num)) "
   ]
  },
  {
   "cell_type": "markdown",
   "id": "f0064401",
   "metadata": {},
   "source": [
    "### 2. Write a Python program to print all disarium numbers between 1 to 100?"
   ]
  },
  {
   "cell_type": "code",
   "execution_count": 2,
   "id": "129f0fe7-5ebf-4e4d-88f7-28cc3f026c91",
   "metadata": {},
   "outputs": [
    {
     "name": "stdout",
     "output_type": "stream",
     "text": [
      "DISARIUM NUMBERS WITHIN RANGE({1},{100}) ARE -\n",
      "1 2 3 4 5 6 7 8 9 89 "
     ]
    }
   ],
   "source": [
    "def check_disarium(number):    \n",
    "  no_digits = 0\n",
    "  num = number  \n",
    "  while(num != 0):\n",
    "    no_digits = no_digits + 1\n",
    "    num = num//10\n",
    "\n",
    "  remainder = 0\n",
    "  disarium_num = 0    \n",
    "  while(number > 0):\n",
    "    remainder = number % 10\n",
    "    disarium_num = disarium_num + (remainder**no_digits)\n",
    "    number = number//10\n",
    "    no_digits = no_digits - 1\n",
    "  return disarium_num\n",
    "\n",
    "print(\"DISARIUM NUMBERS WITHIN RANGE({1},{100}) ARE -\")\n",
    "for i in range(1,101):    \n",
    "  if check_disarium(i) == i:\n",
    "    print(i,end=\" \")"
   ]
  },
  {
   "cell_type": "markdown",
   "id": "31df1e4a",
   "metadata": {},
   "source": [
    "### 3. Write a Python program to check if the given number is Happy Number?"
   ]
  },
  {
   "cell_type": "code",
   "execution_count": 3,
   "id": "50f11b5d-b73d-4d00-9b99-690762665fc7",
   "metadata": {},
   "outputs": [
    {
     "name": "stdout",
     "output_type": "stream",
     "text": [
      "True\n",
      "True\n",
      "False\n"
     ]
    }
   ],
   "source": [
    "def is_Happy_num(n):\n",
    "  past = set()\n",
    "  while n != 1:\n",
    "        n = sum(int(i)**2 for i in str(n))\n",
    "        if n in past:\n",
    "            return False\n",
    "        past.add(n)\n",
    "  return True\n",
    "print(is_Happy_num(7))\n",
    "print(is_Happy_num(932))\n",
    "print(is_Happy_num(6))"
   ]
  },
  {
   "cell_type": "markdown",
   "id": "51b265e3",
   "metadata": {},
   "source": [
    "### 4. Write a Python program to print all happy numbers between 1 and 100?"
   ]
  },
  {
   "cell_type": "code",
   "execution_count": 4,
   "id": "87f3f725-6298-4a9c-ad5d-053e8c20c090",
   "metadata": {},
   "outputs": [
    {
     "name": "stdout",
     "output_type": "stream",
     "text": [
      "HAPPY NUMBERS WITHIN RANGE(1,100) ARE -\n",
      "1 7 10 13 19 23 28 31 32 44 49 68 70 79 82 86 91 94 97 100 "
     ]
    }
   ],
   "source": [
    "def check_happy(number):\n",
    "  remainder = 0\n",
    "  happy_num = 0;    \n",
    "  while(number > 0):    \n",
    "    remainder = number%10;    \n",
    "    happy_num = happy_num + (remainder*remainder);    \n",
    "    number = number//10;\n",
    "  return happy_num;\n",
    "\n",
    "lower = int(1)\n",
    "upper = int(100)\n",
    "print(\"HAPPY NUMBERS WITHIN RANGE({},{}) ARE -\".format(lower,upper))\n",
    "for i in range(lower,upper+1):\n",
    "  happy_num = i\n",
    "  while(happy_num != 1 and happy_num != 4):\n",
    "    happy_num = check_happy(happy_num)\n",
    "  if(happy_num == 1):\n",
    "    print(i,end=\" \")"
   ]
  },
  {
   "cell_type": "markdown",
   "id": "6a190ee0",
   "metadata": {},
   "source": [
    "### 5. Write a Python program to determine whether the given number is a Harshad Number?"
   ]
  },
  {
   "cell_type": "code",
   "execution_count": 5,
   "id": "951399b8-d838-440d-a4a1-ddc4dffb9065",
   "metadata": {},
   "outputs": [
    {
     "name": "stdin",
     "output_type": "stream",
     "text": [
      "Enter a Number =  153\n"
     ]
    },
    {
     "name": "stdout",
     "output_type": "stream",
     "text": [
      "The Sum of the Digits = 9\n",
      "\n",
      "153 is a Harshad Number.\n"
     ]
    }
   ],
   "source": [
    "Number = int(input(\"Enter a Number = \"))\n",
    "Sum = 0\n",
    "rem = 0\n",
    "\n",
    "Temp = Number\n",
    "while Temp > 0:\n",
    "    rem = Temp % 10\n",
    "    Sum = Sum + rem\n",
    "    Temp = Temp // 10\n",
    "\n",
    "print(\"The Sum of the Digits = %d\" %Sum)\n",
    "\n",
    "if Number % Sum == 0:\n",
    "    print(\"\\n%d is a Harshad Number.\" %Number)\n",
    "else:\n",
    "    print(\"%d is Not a Harshad Number.\" %Number)"
   ]
  },
  {
   "cell_type": "markdown",
   "id": "7a7ea92e",
   "metadata": {},
   "source": [
    "### 6. Write a Python program to print all pronic numbers between 1 and 100?"
   ]
  },
  {
   "cell_type": "code",
   "execution_count": 6,
   "id": "e7917a35-a99f-42e0-b921-be69973fb6a1",
   "metadata": {},
   "outputs": [
    {
     "name": "stdout",
     "output_type": "stream",
     "text": [
      "\n",
      "The List of Pronic Numbers from 1 and 100\n",
      "2   6   12   20   30   42   56   72   90   "
     ]
    }
   ],
   "source": [
    "def checkPronic(Number):\n",
    "    i = 0\n",
    "    flag = 0\n",
    "    while i <= Number:\n",
    "        if Number == i * (i + 1):\n",
    "            flag = 1\n",
    "            break\n",
    "        i = i + 1\n",
    "    return flag\n",
    "\n",
    "minPro = int(1)\n",
    "maxPro = int(100)\n",
    "\n",
    "print(\"\\nThe List of Pronic Numbers from {} and {}\".format(minPro, maxPro)) \n",
    "for i in range(minPro, maxPro):\n",
    "    if(checkPronic(i) == 1):\n",
    "        print(i, end = '   ')"
   ]
  }
 ],
 "metadata": {
  "kernelspec": {
   "display_name": "Python 3 (ipykernel)",
   "language": "python",
   "name": "python3"
  },
  "language_info": {
   "codemirror_mode": {
    "name": "ipython",
    "version": 3
   },
   "file_extension": ".py",
   "mimetype": "text/x-python",
   "name": "python",
   "nbconvert_exporter": "python",
   "pygments_lexer": "ipython3",
   "version": "3.10.6"
  }
 },
 "nbformat": 4,
 "nbformat_minor": 5
}
