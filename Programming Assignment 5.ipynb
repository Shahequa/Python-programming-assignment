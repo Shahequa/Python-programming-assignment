{
 "cells": [
  {
   "cell_type": "markdown",
   "id": "4ac9602a",
   "metadata": {},
   "source": [
    "## Python Basic Programming Assignment - 5\n",
    "--------------\n"
   ]
  },
  {
   "cell_type": "markdown",
   "id": "fdaeee06",
   "metadata": {},
   "source": [
    "### 1. Write a Python Program to Find LCM?"
   ]
  },
  {
   "cell_type": "code",
   "execution_count": 1,
   "id": "a5a76d88-0cf3-4246-ace5-819e1a51813d",
   "metadata": {},
   "outputs": [
    {
     "name": "stdout",
     "output_type": "stream",
     "text": [
      "The LCM is: 18\n"
     ]
    }
   ],
   "source": [
    "a = 18\n",
    "b = 9\n",
    "if(a>b):\n",
    "    max1=a\n",
    "else:\n",
    "    max1=b\n",
    "while(1):\n",
    "    if(max1%a==0 and max1%b==0):\n",
    "        print(\"The LCM is:\",max1)\n",
    "        break\n",
    "    max1=max1+1"
   ]
  },
  {
   "cell_type": "markdown",
   "id": "2f459cdf",
   "metadata": {},
   "source": [
    "### 2. Write a Python Program to Find HCF?"
   ]
  },
  {
   "cell_type": "code",
   "execution_count": 2,
   "id": "c8f0739b-4a3f-4407-8e91-bbfb5f8541d7",
   "metadata": {},
   "outputs": [
    {
     "name": "stdout",
     "output_type": "stream",
     "text": [
      "Hcf of 86 and 38 is 2\n"
     ]
    }
   ],
   "source": [
    "a = 86\n",
    "b = 38\n",
    "hcf = 1\n",
    "\n",
    "for i in range(1, min(a, b)):\n",
    "    if a % i == 0 and b % i == 0:\n",
    "        hcf = i\n",
    "print(\"Hcf of\", a, \"and\", b, \"is\", hcf)"
   ]
  },
  {
   "cell_type": "markdown",
   "id": "d2c29370",
   "metadata": {},
   "source": [
    "### 3. Write a Python Program to Convert Decimal to Binary, Octal and Hexadecimal?"
   ]
  },
  {
   "cell_type": "code",
   "execution_count": 3,
   "id": "e703c630-c1fd-490e-b62f-ec9d71d8ca53",
   "metadata": {},
   "outputs": [
    {
     "name": "stdin",
     "output_type": "stream",
     "text": [
      "Enter the decimal number:  56\n"
     ]
    },
    {
     "name": "stdout",
     "output_type": "stream",
     "text": [
      "The decimal value of 56 are:\n",
      "0b111000 in binary.\n",
      "0o70 in octal.\n",
      "0x38 in hexadecimal.\n"
     ]
    }
   ],
   "source": [
    "dec = int(input(\"Enter the decimal number: \"))\n",
    " \n",
    "print(\"The decimal value of\", dec, \"are:\")\n",
    "print(bin(dec), \"in binary.\")\n",
    "print(oct(dec), \"in octal.\")\n",
    "print(hex(dec), \"in hexadecimal.\")"
   ]
  },
  {
   "cell_type": "markdown",
   "id": "2a16c5fd",
   "metadata": {},
   "source": [
    "### 4. Write a Python Program To Find ASCII value of a character?"
   ]
  },
  {
   "cell_type": "code",
   "execution_count": 4,
   "id": "6f1b745e-e5f6-4492-b864-1aaedf15012f",
   "metadata": {},
   "outputs": [
    {
     "name": "stdout",
     "output_type": "stream",
     "text": [
      "The ASCII value of 't' is 116\n"
     ]
    }
   ],
   "source": [
    "c = 't'\n",
    "print(\"The ASCII value of '\" + c + \"' is\", ord(c))"
   ]
  },
  {
   "cell_type": "markdown",
   "id": "226778a0",
   "metadata": {},
   "source": [
    "### 5. Write a Python Program to Make a Simple Calculator with 4 basic mathematical operations?"
   ]
  },
  {
   "cell_type": "code",
   "execution_count": 5,
   "id": "598e26a4-6db9-4b37-907d-4d7744bf68f2",
   "metadata": {},
   "outputs": [
    {
     "name": "stdin",
     "output_type": "stream",
     "text": [
      "Please, Enter the first number:  6\n",
      "Please, Enter the second number:  7\n"
     ]
    },
    {
     "name": "stdout",
     "output_type": "stream",
     "text": [
      "6 + 7 = \n",
      "13\n",
      "6 - 7 = \n",
      "-1\n",
      "6 * 7 = \n",
      "42\n",
      "6 / 7 = \n",
      "0.8571428571428571\n"
     ]
    }
   ],
   "source": [
    "\n",
    "x = int(input('Please, Enter the first number: '))\n",
    "y = int(input('Please, Enter the second number: '))\n",
    " \n",
    "# mathematical operation: Addition\n",
    "print('{} + {} = '.format(x, y))\n",
    "print(x + y)\n",
    " \n",
    "# mathematical operation: Subtraction\n",
    "print('{} - {} = '.format(x, y))\n",
    "print(x - y)\n",
    " \n",
    "# mathematical operation: Multiplication\n",
    "print('{} * {} = '.format(x, y))\n",
    "print(x * y)\n",
    " \n",
    "# mathematical operation: Division\n",
    "print('{} / {} = '.format(x, y))\n",
    "print(x / y)\n"
   ]
  }
 ],
 "metadata": {
  "kernelspec": {
   "display_name": "Python 3 (ipykernel)",
   "language": "python",
   "name": "python3"
  },
  "language_info": {
   "codemirror_mode": {
    "name": "ipython",
    "version": 3
   },
   "file_extension": ".py",
   "mimetype": "text/x-python",
   "name": "python",
   "nbconvert_exporter": "python",
   "pygments_lexer": "ipython3",
   "version": "3.10.6"
  }
 },
 "nbformat": 4,
 "nbformat_minor": 5
}
