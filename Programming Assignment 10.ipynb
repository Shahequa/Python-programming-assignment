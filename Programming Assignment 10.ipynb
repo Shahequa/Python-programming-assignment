{
 "cells": [
  {
   "cell_type": "markdown",
   "id": "3dcb940f",
   "metadata": {},
   "source": [
    "## Python Basic Programming Assignment 10"
   ]
  },
  {
   "cell_type": "markdown",
   "id": "6720790a",
   "metadata": {},
   "source": [
    "### 1. Write a Python program to find sum of elements in list?"
   ]
  },
  {
   "cell_type": "code",
   "execution_count": 1,
   "id": "0c3b2868-dd6a-4658-b7c5-89f8d112b400",
   "metadata": {},
   "outputs": [
    {
     "name": "stdout",
     "output_type": "stream",
     "text": [
      "7\n"
     ]
    }
   ],
   "source": [
    "def sum_list(items):\n",
    "    sum_numbers = 0\n",
    "    for x in items:\n",
    "        sum_numbers += x\n",
    "    return sum_numbers\n",
    "print(sum_list([16,9,-18]))"
   ]
  },
  {
   "cell_type": "markdown",
   "id": "fe1137c3",
   "metadata": {},
   "source": [
    "### 2. Write a Python program to  Multiply all numbers in the list?"
   ]
  },
  {
   "cell_type": "code",
   "execution_count": 2,
   "id": "63cc6848-ce9f-4aa3-9013-0f0c0619bd8d",
   "metadata": {},
   "outputs": [
    {
     "name": "stdout",
     "output_type": "stream",
     "text": [
      "-2016\n"
     ]
    }
   ],
   "source": [
    "def multiply(numbers):  \n",
    "    total = 1\n",
    "    for x in numbers:\n",
    "        total *= x  \n",
    "    return total  \n",
    "print(multiply((8, 12, 3, -1, 7)))"
   ]
  },
  {
   "cell_type": "markdown",
   "id": "078681db",
   "metadata": {},
   "source": [
    "### 3. Write a Python program to find smallest number in a list?"
   ]
  },
  {
   "cell_type": "code",
   "execution_count": 3,
   "id": "3795de20-5aa3-40cc-9db2-24f99d07c5f9",
   "metadata": {},
   "outputs": [
    {
     "name": "stdout",
     "output_type": "stream",
     "text": [
      "-7\n"
     ]
    }
   ],
   "source": [
    "def smallest_num_in_list( list ):\n",
    "    min = list[ 0 ]\n",
    "    for a in list:\n",
    "        if a < min:\n",
    "            min = a\n",
    "    return min\n",
    "print(smallest_num_in_list([1, 13, -7, 0]))"
   ]
  },
  {
   "cell_type": "markdown",
   "id": "12b04397",
   "metadata": {},
   "source": [
    "### 4. Write a Python program to find largest number in a list?"
   ]
  },
  {
   "cell_type": "code",
   "execution_count": 4,
   "id": "bebe989c-93da-435a-9220-63b3789d71ad",
   "metadata": {},
   "outputs": [
    {
     "name": "stdout",
     "output_type": "stream",
     "text": [
      "13\n"
     ]
    }
   ],
   "source": [
    "def max_num_in_list( list ):\n",
    "    max = list[ 0 ]\n",
    "    for a in list:\n",
    "        if a > max:\n",
    "            max = a\n",
    "    return max\n",
    "print(max_num_in_list([1, 13, -7, 0]))"
   ]
  },
  {
   "cell_type": "markdown",
   "id": "86442b51",
   "metadata": {},
   "source": [
    "### 5. Write a Python program to find second largest number in a list?"
   ]
  },
  {
   "cell_type": "code",
   "execution_count": 5,
   "id": "64b6a542-e5ec-4335-ba57-486919da2fc4",
   "metadata": {},
   "outputs": [
    {
     "name": "stdout",
     "output_type": "stream",
     "text": [
      "3\n",
      "1\n",
      "None\n",
      "None\n"
     ]
    }
   ],
   "source": [
    "def second_largest(numbers):\n",
    "  if (len(numbers)<2):\n",
    "    return\n",
    "  if ((len(numbers)==2)  and (numbers[0] == numbers[1]) ):\n",
    "    return\n",
    "  dup_items = set()\n",
    "  uniq_items = []\n",
    "  for x in numbers:\n",
    "    if x not in dup_items:\n",
    "      uniq_items.append(x)\n",
    "      dup_items.add(x)\n",
    "  uniq_items.sort()    \n",
    "  return  uniq_items[-2]   \n",
    "print(second_largest([1,2,3,4,4]))\n",
    "print(second_largest([1, 1, 1, 0, 0, 0, 2, -2, -2]))\n",
    "print(second_largest([2,2]))\n",
    "print(second_largest([7]))"
   ]
  },
  {
   "cell_type": "markdown",
   "id": "10964d7d",
   "metadata": {},
   "source": [
    "### 6. Write a Python program to find N largest elements from a list?"
   ]
  },
  {
   "cell_type": "code",
   "execution_count": 6,
   "id": "679f5847-f828-404b-acce-400614ce9a25",
   "metadata": {},
   "outputs": [
    {
     "name": "stdout",
     "output_type": "stream",
     "text": [
      "Largest numbers =  [100, 85, 77, 65]\n"
     ]
    }
   ],
   "source": [
    "def LargestFunc(list1, N):\n",
    "\tnew_list = []\n",
    "\tfor i in range(0, N):\n",
    "\t\tmax1 = 0\n",
    "\t\tfor j in range(len(list1)):\n",
    "\t\t\tif list1[j] > max1:\n",
    "\t\t\t\tmax1 = list1[j];\n",
    "\t\t\t\n",
    "\t\tlist1.remove(max1);\n",
    "\t\tnew_list.append(max1)\n",
    "\tprint(\"Largest numbers = \",new_list)\n",
    "\n",
    "# Driver code\n",
    "my_list = [12, 61, 41, 85, 40, 13, 77, 65, 100]\n",
    "N = 4\n",
    "\n",
    "# Calling the function\n",
    "LargestFunc(my_list, N)"
   ]
  },
  {
   "cell_type": "markdown",
   "id": "2f1a1e98",
   "metadata": {},
   "source": [
    "### 7. Write a Python program to print even numbers in a list?"
   ]
  },
  {
   "cell_type": "code",
   "execution_count": 7,
   "id": "cd76af63-902d-4f88-b2df-64afd082a429",
   "metadata": {},
   "outputs": [
    {
     "name": "stdout",
     "output_type": "stream",
     "text": [
      "18 10 32 "
     ]
    }
   ],
   "source": [
    "def even(num_list):\n",
    "   # iteration\n",
    "   for num in num_list:\n",
    "\t\n",
    "      # check for remainder\n",
    "         if num % 2 == 0:\n",
    "            print(num, end=' ')\n",
    "\n",
    "even([18, 10, 29, 53, 32])"
   ]
  },
  {
   "cell_type": "markdown",
   "id": "989bb324",
   "metadata": {},
   "source": [
    "### 8. Write a Python program to print odd numbers in a List?"
   ]
  },
  {
   "cell_type": "code",
   "execution_count": 8,
   "id": "b76558b0-8b24-489a-95d9-2bc9cd50994a",
   "metadata": {},
   "outputs": [
    {
     "name": "stdout",
     "output_type": "stream",
     "text": [
      "29 53 "
     ]
    }
   ],
   "source": [
    "def even(num_list):\n",
    "   # iteration\n",
    "   for num in num_list:\n",
    "\t\n",
    "      # check for remainder\n",
    "         if num % 2 != 0:\n",
    "            print(num, end=' ')\n",
    "\n",
    "even([18, 10, 29, 53, 32])"
   ]
  },
  {
   "cell_type": "markdown",
   "id": "185b7b13",
   "metadata": {},
   "source": [
    "### 9. Write a Python program to Remove empty List from List?"
   ]
  },
  {
   "cell_type": "code",
   "execution_count": 9,
   "id": "915344f5-a8e0-4273-845d-8ce6636905cf",
   "metadata": {},
   "outputs": [
    {
     "name": "stdout",
     "output_type": "stream",
     "text": [
      "Original list:\n",
      "[[], [], 'Shahequa', [], 'Red', 'Data', [1, 2], 'Blue', [], []]\n",
      "\n",
      "After deleting the empty lists from the said lists of lists\n",
      "['Shahequa', 'Red', 'Data', [1, 2], 'Blue']\n"
     ]
    }
   ],
   "source": [
    "list1 = [[], [], 'Shahequa', [], 'Red', 'Data', [1,2], 'Blue', [], []]\n",
    "print(\"Original list:\")\n",
    "print(list1)\n",
    "print(\"\\nAfter deleting the empty lists from the said lists of lists\")\n",
    "list2 = [x for x in list1 if x]\n",
    "print(list2)"
   ]
  },
  {
   "cell_type": "markdown",
   "id": "278cfacc",
   "metadata": {},
   "source": [
    "### 10. Write a Python program to Cloning or Copying a list?"
   ]
  },
  {
   "cell_type": "code",
   "execution_count": 10,
   "id": "43a2ee02-980e-4153-b70a-9a98e8b3bc0a",
   "metadata": {},
   "outputs": [
    {
     "name": "stdout",
     "output_type": "stream",
     "text": [
      "[73, 22, 89, 23, 64]\n",
      "[73, 22, 89, 23, 64]\n"
     ]
    }
   ],
   "source": [
    "original_list = [73, 22, 89, 23, 64]\n",
    "new_list = list(original_list)\n",
    "print(original_list)\n",
    "print(new_list)"
   ]
  },
  {
   "cell_type": "markdown",
   "id": "b359bedf",
   "metadata": {},
   "source": [
    "### 11. Write a Python program to Count occurrences of an element in a list?"
   ]
  },
  {
   "cell_type": "code",
   "execution_count": 11,
   "id": "7c76c986-942a-4278-a651-f28333cc7cbb",
   "metadata": {},
   "outputs": [
    {
     "name": "stdout",
     "output_type": "stream",
     "text": [
      "3\n"
     ]
    }
   ],
   "source": [
    "count = ['a', 1, 'a', 4, 3, 2, 'a'].count('a')\n",
    "print(count)"
   ]
  }
 ],
 "metadata": {
  "kernelspec": {
   "display_name": "Python 3 (ipykernel)",
   "language": "python",
   "name": "python3"
  },
  "language_info": {
   "codemirror_mode": {
    "name": "ipython",
    "version": 3
   },
   "file_extension": ".py",
   "mimetype": "text/x-python",
   "name": "python",
   "nbconvert_exporter": "python",
   "pygments_lexer": "ipython3",
   "version": "3.10.6"
  }
 },
 "nbformat": 4,
 "nbformat_minor": 5
}
